{
 "cells": [
  {
   "cell_type": "code",
   "execution_count": 1,
   "metadata": {},
   "outputs": [],
   "source": [
    "import numpy as np\n",
    "import pandas as pd\n",
    "import matplotlib.pyplot as plt"
   ]
  },
  {
   "cell_type": "markdown",
   "metadata": {},
   "source": [
    "## The Linear Model is of the form Y=m1*['Microbes']+m2*['Sucrose']+c \n",
    "Y- Predicted Biosurfactant conc.\n",
    ", m1,m2- slopes\n",
    ", c- intercept"
   ]
  },
  {
   "cell_type": "markdown",
   "metadata": {},
   "source": [
    "## Loading the dataset"
   ]
  },
  {
   "cell_type": "code",
   "execution_count": 2,
   "metadata": {},
   "outputs": [
    {
     "data": {
      "text/html": [
       "<div>\n",
       "<style scoped>\n",
       "    .dataframe tbody tr th:only-of-type {\n",
       "        vertical-align: middle;\n",
       "    }\n",
       "\n",
       "    .dataframe tbody tr th {\n",
       "        vertical-align: top;\n",
       "    }\n",
       "\n",
       "    .dataframe thead th {\n",
       "        text-align: right;\n",
       "    }\n",
       "</style>\n",
       "<table border=\"1\" class=\"dataframe\">\n",
       "  <thead>\n",
       "    <tr style=\"text-align: right;\">\n",
       "      <th></th>\n",
       "      <th>Microbes</th>\n",
       "      <th>Sucrose</th>\n",
       "      <th>Biosurfactant</th>\n",
       "    </tr>\n",
       "  </thead>\n",
       "  <tbody>\n",
       "    <tr>\n",
       "      <td>0</td>\n",
       "      <td>0.152167</td>\n",
       "      <td>19.234000</td>\n",
       "      <td>0.031720</td>\n",
       "    </tr>\n",
       "    <tr>\n",
       "      <td>1</td>\n",
       "      <td>0.288303</td>\n",
       "      <td>17.867667</td>\n",
       "      <td>0.050135</td>\n",
       "    </tr>\n",
       "    <tr>\n",
       "      <td>2</td>\n",
       "      <td>0.460620</td>\n",
       "      <td>16.421433</td>\n",
       "      <td>0.065525</td>\n",
       "    </tr>\n",
       "    <tr>\n",
       "      <td>3</td>\n",
       "      <td>0.655827</td>\n",
       "      <td>14.899000</td>\n",
       "      <td>0.108600</td>\n",
       "    </tr>\n",
       "    <tr>\n",
       "      <td>4</td>\n",
       "      <td>0.977037</td>\n",
       "      <td>12.830467</td>\n",
       "      <td>0.231010</td>\n",
       "    </tr>\n",
       "    <tr>\n",
       "      <td>5</td>\n",
       "      <td>1.359320</td>\n",
       "      <td>11.563667</td>\n",
       "      <td>0.386350</td>\n",
       "    </tr>\n",
       "    <tr>\n",
       "      <td>6</td>\n",
       "      <td>1.531317</td>\n",
       "      <td>10.347333</td>\n",
       "      <td>0.515205</td>\n",
       "    </tr>\n",
       "    <tr>\n",
       "      <td>7</td>\n",
       "      <td>1.839917</td>\n",
       "      <td>9.145300</td>\n",
       "      <td>0.648945</td>\n",
       "    </tr>\n",
       "    <tr>\n",
       "      <td>8</td>\n",
       "      <td>2.174953</td>\n",
       "      <td>7.523667</td>\n",
       "      <td>0.838135</td>\n",
       "    </tr>\n",
       "    <tr>\n",
       "      <td>9</td>\n",
       "      <td>2.560059</td>\n",
       "      <td>6.550633</td>\n",
       "      <td>0.940925</td>\n",
       "    </tr>\n",
       "    <tr>\n",
       "      <td>10</td>\n",
       "      <td>2.704572</td>\n",
       "      <td>5.230000</td>\n",
       "      <td>1.049110</td>\n",
       "    </tr>\n",
       "    <tr>\n",
       "      <td>11</td>\n",
       "      <td>2.604353</td>\n",
       "      <td>4.286833</td>\n",
       "      <td>1.139435</td>\n",
       "    </tr>\n",
       "  </tbody>\n",
       "</table>\n",
       "</div>"
      ],
      "text/plain": [
       "    Microbes    Sucrose  Biosurfactant\n",
       "0   0.152167  19.234000       0.031720\n",
       "1   0.288303  17.867667       0.050135\n",
       "2   0.460620  16.421433       0.065525\n",
       "3   0.655827  14.899000       0.108600\n",
       "4   0.977037  12.830467       0.231010\n",
       "5   1.359320  11.563667       0.386350\n",
       "6   1.531317  10.347333       0.515205\n",
       "7   1.839917   9.145300       0.648945\n",
       "8   2.174953   7.523667       0.838135\n",
       "9   2.560059   6.550633       0.940925\n",
       "10  2.704572   5.230000       1.049110\n",
       "11  2.604353   4.286833       1.139435"
      ]
     },
     "execution_count": 2,
     "metadata": {},
     "output_type": "execute_result"
    }
   ],
   "source": [
    "df=pd.read_csv(r'C:\\Users\\medik\\OneDrive\\Desktop\\CSV Files\\Data .csv')\n",
    "df"
   ]
  },
  {
   "cell_type": "markdown",
   "metadata": {},
   "source": [
    "## Plots between Sucrose/Biosurfactant & Microbes/Biosurfactant"
   ]
  },
  {
   "cell_type": "code",
   "execution_count": 219,
   "metadata": {},
   "outputs": [
    {
     "data": {
      "image/png": "[encoded data removed]",
      "text/plain": [
       "<Figure size 432x288 with 1 Axes>"
      ]
     },
     "metadata": {
      "needs_background": "light"
     },
     "output_type": "display_data"
    }
   ],
   "source": [
    "plt.plot(df[['Sucrose']],df['Biosurfactant'])\n",
    "plt.plot(df[['Microbes']],df['Biosurfactant'])\n",
    "plt.show()"
   ]
  },
  {
   "cell_type": "markdown",
   "metadata": {},
   "source": [
    "# Converting the values to arrays"
   ]
  },
  {
   "cell_type": "code",
   "execution_count": 62,
   "metadata": {},
   "outputs": [
    {
     "data": {
      "text/plain": [
       "array([[0.03172  ],\n",
       "       [0.0501345],\n",
       "       [0.065525 ],\n",
       "       [0.1086   ],\n",
       "       [0.23101  ],\n",
       "       [0.38635  ],\n",
       "       [0.515205 ],\n",
       "       [0.648945 ],\n",
       "       [0.838135 ],\n",
       "       [0.940925 ],\n",
       "       [1.04911  ],\n",
       "       [1.139435 ]])"
      ]
     },
     "execution_count": 62,
     "metadata": {},
     "output_type": "execute_result"
    }
   ],
   "source": [
    "X=df.iloc[:,0:2].values\n",
    "Y=df.iloc[:,2:3].values"
   ]
  },
  {
   "cell_type": "markdown",
   "metadata": {},
   "source": [
    "## Splitting the data into training and testing dataset"
   ]
  },
  {
   "cell_type": "code",
   "execution_count": 71,
   "metadata": {},
   "outputs": [],
   "source": [
    "from sklearn.model_selection import train_test_split\n",
    "X_train,X_test,Y_train,Y_test=train_test_split(X,Y,test_size=0.4,random_state=0)"
   ]
  },
  {
   "cell_type": "markdown",
   "metadata": {},
   "source": [
    "## Building the Linear Regression Moodel"
   ]
  },
  {
   "cell_type": "code",
   "execution_count": 25,
   "metadata": {},
   "outputs": [
    {
     "data": {
      "text/plain": [
       "LinearRegression(copy_X=True, fit_intercept=True, n_jobs=None, normalize=False)"
      ]
     },
     "execution_count": 25,
     "metadata": {},
     "output_type": "execute_result"
    }
   ],
   "source": [
    "from sklearn.linear_model import LinearRegression\n",
    "LG=LinearRegression()\n",
    "LG.fit(X_train,Y_train)"
   ]
  },
  {
   "cell_type": "markdown",
   "metadata": {},
   "source": [
    "## Predictions for the input testing data"
   ]
  },
  {
   "cell_type": "code",
   "execution_count": 26,
   "metadata": {},
   "outputs": [
    {
     "data": {
      "text/plain": [
       "array([[0.48506862],\n",
       "       [0.89328319],\n",
       "       [0.24035364],\n",
       "       [1.01031678],\n",
       "       [0.07914634]])"
      ]
     },
     "execution_count": 26,
     "metadata": {},
     "output_type": "execute_result"
    }
   ],
   "source": [
    "LG.predict(X_test)"
   ]
  },
  {
   "cell_type": "markdown",
   "metadata": {},
   "source": [
    "## Actual/Predicted values"
   ]
  },
  {
   "cell_type": "code",
   "execution_count": 200,
   "metadata": {},
   "outputs": [
    {
     "name": "stdout",
     "output_type": "stream",
     "text": [
      "Actual Values:  [[0.515205]\n",
      " [1.139435]\n",
      " [0.23101 ]\n",
      " [1.04911 ]\n",
      " [0.065525]] \n",
      "\n",
      "Predicted values:  [[0.48506862]\n",
      " [0.89328319]\n",
      " [0.24035364]\n",
      " [1.01031678]\n",
      " [0.07914634]]\n"
     ]
    },
    {
     "data": {
      "text/plain": [
       "array([[ 1.53131667, 10.34733333],\n",
       "       [ 2.60435333,  4.28683333],\n",
       "       [ 0.97703667, 12.83046667],\n",
       "       [ 2.704572  ,  5.23      ],\n",
       "       [ 0.46062   , 16.42143333]])"
      ]
     },
     "execution_count": 200,
     "metadata": {},
     "output_type": "execute_result"
    }
   ],
   "source": [
    "print('Actual Values: ',Y_test,'\\n')\n",
    "print('Predicted values: ',LG.predict(X_test))\n"
   ]
  },
  {
   "cell_type": "markdown",
   "metadata": {},
   "source": [
    "## Coefficients"
   ]
  },
  {
   "cell_type": "code",
   "execution_count": 64,
   "metadata": {},
   "outputs": [
    {
     "data": {
      "text/plain": [
       "array([[0.67573038, 0.05228429]])"
      ]
     },
     "execution_count": 64,
     "metadata": {},
     "output_type": "execute_result"
    }
   ],
   "source": [
    "LG.coef_ \n",
    "#slopes m1,m2"
   ]
  },
  {
   "cell_type": "markdown",
   "metadata": {},
   "source": [
    "## Intercept"
   ]
  },
  {
   "cell_type": "code",
   "execution_count": 72,
   "metadata": {},
   "outputs": [
    {
     "data": {
      "text/plain": [
       "array([-1.09069149])"
      ]
     },
     "execution_count": 72,
     "metadata": {},
     "output_type": "execute_result"
    }
   ],
   "source": [
    "LG.intercept_\n",
    "#intercept"
   ]
  },
  {
   "cell_type": "markdown",
   "metadata": {},
   "source": [
    "## Accuracy of the model"
   ]
  },
  {
   "cell_type": "code",
   "execution_count": 29,
   "metadata": {},
   "outputs": [
    {
     "data": {
      "text/plain": [
       "0.9894737299220857"
      ]
     },
     "execution_count": 29,
     "metadata": {},
     "output_type": "execute_result"
    }
   ],
   "source": [
    "LG.score(X_train,Y_train)"
   ]
  },
  {
   "cell_type": "markdown",
   "metadata": {},
   "source": [
    "## Conclusion: The linear model is of the form:\n",
    "        Y_Pred = 0.67573038*[Microbes Conc.] + 0.05228429*[Sucrose Conc.] - 1.09069149"
   ]
  },
  {
   "cell_type": "code",
   "execution_count": 214,
   "metadata": {},
   "outputs": [],
   "source": [
    "pred_bio=LG.predict([[0.152167,19.234],[0.288303,17.867667],\n",
    "            [0.46062,16.421433],[0.655827,14.899],\n",
    "            [0.977037,12.830467],[1.35932,11.563667],\n",
    "            [1.531317,10.347333],[1.839917,9.1453],\n",
    "            [2.174953,7.523667],[2.560059,6.550633],\n",
    "            [2.704572,5.23],[2.604353,4.286833]])\n",
    "\n",
    "time=[0,12,24,36,48,60,72,84,96,108,120,132]"
   ]
  },
  {
   "cell_type": "markdown",
   "metadata": {},
   "source": [
    "## Plots: Time (hrs) vs Biosurfactant (g/l)"
   ]
  },
  {
   "cell_type": "code",
   "execution_count": 221,
   "metadata": {},
   "outputs": [
    {
     "data": {
      "image/png": "[encoded data removed]",
      "text/plain": [
       "<Figure size 432x288 with 1 Axes>"
      ]
     },
     "metadata": {
      "needs_background": "light"
     },
     "output_type": "display_data"
    }
   ],
   "source": [
    "plt.plot(time,pred_bio,marker='*')\n",
    "plt.xlabel('Time (hrs)')\n",
    "plt.ylabel('Biosurfactant (g/l)')\n",
    "plt.grid()\n",
    "plt.title('At pH=8')\n",
    "plt.show()"
   ]
  }
 ],
 "metadata": {
  "kernelspec": {
   "display_name": "Python 3",
   "language": "python",
   "name": "python3"
  },
  "language_info": {
   "codemirror_mode": {
    "name": "ipython",
    "version": 3
   },
   "file_extension": ".py",
   "mimetype": "text/x-python",
   "name": "python",
   "nbconvert_exporter": "python",
   "pygments_lexer": "ipython3",
   "version": "3.7.4"
  }
 },
 "nbformat": 4,
 "nbformat_minor": 2
}
